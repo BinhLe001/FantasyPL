{
  "nbformat": 4,
  "nbformat_minor": 0,
  "metadata": {
    "colab": {
      "provenance": [],
      "authorship_tag": "ABX9TyMT4gG/QV+/Lp+YvSHc+O6x",
      "include_colab_link": true
    },
    "kernelspec": {
      "name": "python3",
      "display_name": "Python 3"
    },
    "language_info": {
      "name": "python"
    }
  },
  "cells": [
    {
      "cell_type": "markdown",
      "metadata": {
        "id": "view-in-github",
        "colab_type": "text"
      },
      "source": [
        "<a href=\"https://colab.research.google.com/github/BinhLe001/FantasyPL/blob/main/DraftAnalysis.ipynb\" target=\"_parent\"><img src=\"https://colab.research.google.com/assets/colab-badge.svg\" alt=\"Open In Colab\"/></a>"
      ]
    },
    {
      "cell_type": "code",
      "execution_count": 1,
      "metadata": {
        "colab": {
          "base_uri": "https://localhost:8080/"
        },
        "id": "5AeWyb5Av0h1",
        "outputId": "8ee3be8b-d2b6-40ee-a660-6a60244c3acc"
      },
      "outputs": [
        {
          "output_type": "stream",
          "name": "stdout",
          "text": [
            "Collecting pyspark\n",
            "  Downloading pyspark-3.5.0.tar.gz (316.9 MB)\n",
            "\u001b[2K     \u001b[90m━━━━━━━━━━━━━━━━━━━━━━━━━━━━━━━━━━━━━━━━\u001b[0m \u001b[32m316.9/316.9 MB\u001b[0m \u001b[31m4.4 MB/s\u001b[0m eta \u001b[36m0:00:00\u001b[0m\n",
            "\u001b[?25h  Preparing metadata (setup.py) ... \u001b[?25l\u001b[?25hdone\n",
            "Requirement already satisfied: py4j==0.10.9.7 in /usr/local/lib/python3.10/dist-packages (from pyspark) (0.10.9.7)\n",
            "Building wheels for collected packages: pyspark\n",
            "  Building wheel for pyspark (setup.py) ... \u001b[?25l\u001b[?25hdone\n",
            "  Created wheel for pyspark: filename=pyspark-3.5.0-py2.py3-none-any.whl size=317425344 sha256=09f10d72f4704a3afa37a467feb4fa865f49dade85667e19b94c7a8d39fc41e6\n",
            "  Stored in directory: /root/.cache/pip/wheels/41/4e/10/c2cf2467f71c678cfc8a6b9ac9241e5e44a01940da8fbb17fc\n",
            "Successfully built pyspark\n",
            "Installing collected packages: pyspark\n",
            "Successfully installed pyspark-3.5.0\n",
            "The following additional packages will be installed:\n",
            "  libxtst6 openjdk-8-jre-headless\n",
            "Suggested packages:\n",
            "  openjdk-8-demo openjdk-8-source libnss-mdns fonts-dejavu-extra fonts-nanum fonts-ipafont-gothic\n",
            "  fonts-ipafont-mincho fonts-wqy-microhei fonts-wqy-zenhei fonts-indic\n",
            "The following NEW packages will be installed:\n",
            "  libxtst6 openjdk-8-jdk-headless openjdk-8-jre-headless\n",
            "0 upgraded, 3 newly installed, 0 to remove and 19 not upgraded.\n",
            "Need to get 39.7 MB of archives.\n",
            "After this operation, 144 MB of additional disk space will be used.\n",
            "Selecting previously unselected package libxtst6:amd64.\n",
            "(Reading database ... 120874 files and directories currently installed.)\n",
            "Preparing to unpack .../libxtst6_2%3a1.2.3-1build4_amd64.deb ...\n",
            "Unpacking libxtst6:amd64 (2:1.2.3-1build4) ...\n",
            "Selecting previously unselected package openjdk-8-jre-headless:amd64.\n",
            "Preparing to unpack .../openjdk-8-jre-headless_8u382-ga-1~22.04.1_amd64.deb ...\n",
            "Unpacking openjdk-8-jre-headless:amd64 (8u382-ga-1~22.04.1) ...\n",
            "Selecting previously unselected package openjdk-8-jdk-headless:amd64.\n",
            "Preparing to unpack .../openjdk-8-jdk-headless_8u382-ga-1~22.04.1_amd64.deb ...\n",
            "Unpacking openjdk-8-jdk-headless:amd64 (8u382-ga-1~22.04.1) ...\n",
            "Setting up libxtst6:amd64 (2:1.2.3-1build4) ...\n",
            "Setting up openjdk-8-jre-headless:amd64 (8u382-ga-1~22.04.1) ...\n",
            "update-alternatives: using /usr/lib/jvm/java-8-openjdk-amd64/jre/bin/orbd to provide /usr/bin/orbd (orbd) in auto mode\n",
            "update-alternatives: using /usr/lib/jvm/java-8-openjdk-amd64/jre/bin/servertool to provide /usr/bin/servertool (servertool) in auto mode\n",
            "update-alternatives: using /usr/lib/jvm/java-8-openjdk-amd64/jre/bin/tnameserv to provide /usr/bin/tnameserv (tnameserv) in auto mode\n",
            "Setting up openjdk-8-jdk-headless:amd64 (8u382-ga-1~22.04.1) ...\n",
            "update-alternatives: using /usr/lib/jvm/java-8-openjdk-amd64/bin/clhsdb to provide /usr/bin/clhsdb (clhsdb) in auto mode\n",
            "update-alternatives: using /usr/lib/jvm/java-8-openjdk-amd64/bin/extcheck to provide /usr/bin/extcheck (extcheck) in auto mode\n",
            "update-alternatives: using /usr/lib/jvm/java-8-openjdk-amd64/bin/hsdb to provide /usr/bin/hsdb (hsdb) in auto mode\n",
            "update-alternatives: using /usr/lib/jvm/java-8-openjdk-amd64/bin/idlj to provide /usr/bin/idlj (idlj) in auto mode\n",
            "update-alternatives: using /usr/lib/jvm/java-8-openjdk-amd64/bin/javah to provide /usr/bin/javah (javah) in auto mode\n",
            "update-alternatives: using /usr/lib/jvm/java-8-openjdk-amd64/bin/jhat to provide /usr/bin/jhat (jhat) in auto mode\n",
            "update-alternatives: using /usr/lib/jvm/java-8-openjdk-amd64/bin/jsadebugd to provide /usr/bin/jsadebugd (jsadebugd) in auto mode\n",
            "update-alternatives: using /usr/lib/jvm/java-8-openjdk-amd64/bin/native2ascii to provide /usr/bin/native2ascii (native2ascii) in auto mode\n",
            "update-alternatives: using /usr/lib/jvm/java-8-openjdk-amd64/bin/schemagen to provide /usr/bin/schemagen (schemagen) in auto mode\n",
            "update-alternatives: using /usr/lib/jvm/java-8-openjdk-amd64/bin/wsgen to provide /usr/bin/wsgen (wsgen) in auto mode\n",
            "update-alternatives: using /usr/lib/jvm/java-8-openjdk-amd64/bin/wsimport to provide /usr/bin/wsimport (wsimport) in auto mode\n",
            "update-alternatives: using /usr/lib/jvm/java-8-openjdk-amd64/bin/xjc to provide /usr/bin/xjc (xjc) in auto mode\n",
            "Processing triggers for libc-bin (2.35-0ubuntu3.1) ...\n",
            "/sbin/ldconfig.real: /usr/local/lib/libtbbbind.so.3 is not a symbolic link\n",
            "\n",
            "/sbin/ldconfig.real: /usr/local/lib/libtbbbind_2_5.so.3 is not a symbolic link\n",
            "\n",
            "/sbin/ldconfig.real: /usr/local/lib/libtbbmalloc.so.2 is not a symbolic link\n",
            "\n",
            "/sbin/ldconfig.real: /usr/local/lib/libtbbmalloc_proxy.so.2 is not a symbolic link\n",
            "\n",
            "/sbin/ldconfig.real: /usr/local/lib/libtbbbind_2_0.so.3 is not a symbolic link\n",
            "\n",
            "/sbin/ldconfig.real: /usr/local/lib/libtbb.so.12 is not a symbolic link\n",
            "\n"
          ]
        }
      ],
      "source": [
        "!pip install pyspark\n",
        "!pip install -U -q PyDrive\n",
        "!apt install openjdk-8-jdk-headless -qq\n",
        "import os\n",
        "os.environ[\"JAVA_HOME\"] = \"/usr/lib/jvm/java-8-openjdk-amd64\""
      ]
    },
    {
      "cell_type": "code",
      "source": [
        "import pyspark\n",
        "from pyspark.sql import SparkSession\n",
        "import pyspark.sql.types as pyspark_types\n",
        "import pyspark.sql.functions  as psf\n",
        "from pyspark import SparkContext, SparkConf"
      ],
      "metadata": {
        "id": "8neVEmF6wLDv"
      },
      "execution_count": 12,
      "outputs": []
    },
    {
      "cell_type": "code",
      "source": [
        "# create the session\n",
        "conf = SparkConf().set(\"spark.ui.port\", \"4050\").set(\"spark.driver.memory\", \"5g\")\n",
        "\n",
        "# uncomment to recreate the context\n",
        "# spark.stop()\n",
        "# sc.stop()\n",
        "# create the context\n",
        "sc = SparkContext.getOrCreate(conf=conf)\n",
        "spark = SparkSession.builder.getOrCreate()"
      ],
      "metadata": {
        "id": "GdCy96opwMrt"
      },
      "execution_count": 96,
      "outputs": []
    },
    {
      "cell_type": "code",
      "source": [
        "import json\n",
        "import requests"
      ],
      "metadata": {
        "id": "qBlGspORwSu9"
      },
      "execution_count": 6,
      "outputs": []
    },
    {
      "cell_type": "code",
      "source": [
        "fpl_league_details = json.loads(requests.get('https://draft.premierleague.com/api/league/46331/details').text)\n",
        "fpl_league_details.keys()"
      ],
      "metadata": {
        "colab": {
          "base_uri": "https://localhost:8080/"
        },
        "id": "y14EKoDawgOm",
        "outputId": "85b3f50a-b41c-422c-9b68-4c34c8099aa9"
      },
      "execution_count": 7,
      "outputs": [
        {
          "output_type": "execute_result",
          "data": {
            "text/plain": [
              "dict_keys(['league', 'league_entries', 'matches', 'standings'])"
            ]
          },
          "metadata": {},
          "execution_count": 7
        }
      ]
    },
    {
      "cell_type": "code",
      "source": [
        "league_entries = spark.createDataFrame(fpl_league_details[\"league_entries\"]).withColumnRenamed(\"id\", \"league_entry\").drop(\"joined_time\")\n",
        "league_entries.show()"
      ],
      "metadata": {
        "colab": {
          "base_uri": "https://localhost:8080/"
        },
        "id": "yYLz59vDwivu",
        "outputId": "4e2a6a3f-e46b-43ad-fb9a-acc4ea293bf7"
      },
      "execution_count": 97,
      "outputs": [
        {
          "output_type": "stream",
          "name": "stdout",
          "text": [
            "+--------+-------------------+------------+-----------------+----------------+----------+-----------+\n",
            "|entry_id|         entry_name|league_entry|player_first_name|player_last_name|short_name|waiver_pick|\n",
            "+--------+-------------------+------------+-----------------+----------------+----------+-----------+\n",
            "|  172408|NamsArmyOfChampions|      173108|              Nam|              Le|        NL|         10|\n",
            "|  172479|       Weebs United|      173181|             Binh|              Le|        BL|          5|\n",
            "|  178032|         Relegation|      178756|             Nick|          Wester|        NW|          7|\n",
            "|  178525|     Stinkcopper FC|      179251|           taylor|         kimbrel|        tk|          2|\n",
            "|  218922| I <3 White Rice FC|      219906|               An|              Le|        AL|          8|\n",
            "|  245921|        Chadvera FC|      247072|             Chad|        Verastek|        CV|          3|\n",
            "|  273160|  Winnie Wunderkind|      274589|             Eric|         Nartker|        EN|          9|\n",
            "|  274742|  The Pecan Sandies|      276210|             Viet|              Le|        VL|          4|\n",
            "|  275105|             CRG FC|      276578|        Christian|           Farag|        CF|          6|\n",
            "|  292200|          EnzoMatic|      293899|            Scott|         Solomon|        SS|          1|\n",
            "+--------+-------------------+------------+-----------------+----------------+----------+-----------+\n",
            "\n"
          ]
        }
      ]
    },
    {
      "cell_type": "code",
      "source": [
        "standings = spark.createDataFrame(fpl_league_details[\"standings\"]).join(league_entries.select(\"league_entry\", \"entry_name\"), how=\"left\", on=\"league_entry\")\n",
        "standings.show()"
      ],
      "metadata": {
        "colab": {
          "base_uri": "https://localhost:8080/"
        },
        "id": "gL8bhPXzxf7G",
        "outputId": "d243a651-4e68-4188-e997-c83cfe03201d"
      },
      "execution_count": 98,
      "outputs": [
        {
          "output_type": "stream",
          "name": "stdout",
          "text": [
            "+------------+---------+-------------+------------+--------------+-----------+--------------+----------+----+---------+-----+-------------------+\n",
            "|league_entry|last_rank|matches_drawn|matches_lost|matches_played|matches_won|points_against|points_for|rank|rank_sort|total|         entry_name|\n",
            "+------------+---------+-------------+------------+--------------+-----------+--------------+----------+----+---------+-----+-------------------+\n",
            "|      276578|        5|            0|           5|            38|          5|           387|       387|   5|        5|   15|             CRG FC|\n",
            "|      274589|        1|            0|           3|            38|          7|           392|       457|   2|        2|   21|  Winnie Wunderkind|\n",
            "|      178756|        4|            0|           4|            38|          6|           402|       411|   4|        4|   18|         Relegation|\n",
            "|      219906|        3|            0|           3|            38|          7|           366|       441|   3|        3|   21| I <3 White Rice FC|\n",
            "|      173108|        2|            0|           2|            38|          8|           422|       452|   1|        1|   24|NamsArmyOfChampions|\n",
            "|      247072|        6|            0|           6|            38|          4|           400|       375|   8|        8|   12|        Chadvera FC|\n",
            "|      276210|        9|            0|           6|            38|          4|           452|       400|   7|        7|   12|  The Pecan Sandies|\n",
            "|      173181|        7|            0|           6|            38|          4|           444|       460|   6|        6|   12|       Weebs United|\n",
            "|      293899|       10|            0|           8|            38|          2|           449|       388|  10|       10|    6|          EnzoMatic|\n",
            "|      179251|        8|            0|           7|            38|          3|           461|       404|   9|        9|    9|     Stinkcopper FC|\n",
            "+------------+---------+-------------+------------+--------------+-----------+--------------+----------+----+---------+-----+-------------------+\n",
            "\n"
          ]
        }
      ]
    },
    {
      "cell_type": "code",
      "source": [],
      "metadata": {
        "id": "TIiD-z89_asZ"
      },
      "execution_count": null,
      "outputs": []
    },
    {
      "cell_type": "code",
      "source": [
        "def create_non_null_dataset(json_data):\n",
        "  non_null_keys = set()\n",
        "  for event in json_data:\n",
        "    for key, value in event.items():\n",
        "        if value:\n",
        "          non_null_keys.add(key)\n",
        "  non_null_data = []\n",
        "  for event in json_data:\n",
        "    new_event = {}\n",
        "    for key, value in event.items():\n",
        "      if key in non_null_keys:\n",
        "        new_event[key] = value\n",
        "    non_null_data.append(new_event)\n",
        "  return non_null_data"
      ],
      "metadata": {
        "id": "oJ58jb5kAFix"
      },
      "execution_count": 99,
      "outputs": []
    },
    {
      "cell_type": "code",
      "source": [
        "matches_json = create_non_null_dataset(fpl_league_details[\"matches\"])\n",
        "matches = spark.createDataFrame(matches_json)\n",
        "matches_league_entries = league_entries.select(\"league_entry\", \"entry_name\")\n",
        "matches = (matches.join(matches_league_entries, how=\"left\", on=matches_league_entries.league_entry == matches.league_entry_1)\n",
        "                  .withColumnRenamed(\"entry_name\", \"entry_name_1\").drop(\"league_entry\")\n",
        "                  .join(matches_league_entries, how=\"left\", on=matches_league_entries.league_entry == matches.league_entry_2)\n",
        "                  .withColumnRenamed(\"entry_name\", \"entry_name_2\").drop(\"league_entry\")\n",
        "                  .orderBy(psf.asc(\"event\"))\n",
        ")\n",
        "matches.show()"
      ],
      "metadata": {
        "colab": {
          "base_uri": "https://localhost:8080/"
        },
        "id": "t7oGD41px1zf",
        "outputId": "1309638e-294b-4bdc-ed5a-8e69acede02c"
      },
      "execution_count": 101,
      "outputs": [
        {
          "output_type": "stream",
          "name": "stdout",
          "text": [
            "+-----+--------+--------------+---------------------+--------------+---------------------+-------+-------------------+-------------------+\n",
            "|event|finished|league_entry_1|league_entry_1_points|league_entry_2|league_entry_2_points|started|       entry_name_1|       entry_name_2|\n",
            "+-----+--------+--------------+---------------------+--------------+---------------------+-------+-------------------+-------------------+\n",
            "|    1|    true|        276210|                   56|        247072|                   42|   true|  The Pecan Sandies|        Chadvera FC|\n",
            "|    1|    true|        173181|                   26|        178756|                   37|   true|       Weebs United|         Relegation|\n",
            "|    1|    true|        276578|                   20|        219906|                   38|   true|             CRG FC| I <3 White Rice FC|\n",
            "|    1|    true|        274589|                   43|        173108|                   62|   true|  Winnie Wunderkind|NamsArmyOfChampions|\n",
            "|    1|    true|        293899|                   35|        179251|                   53|   true|          EnzoMatic|     Stinkcopper FC|\n",
            "|    2|    true|        247072|                   29|        274589|                   30|   true|        Chadvera FC|  Winnie Wunderkind|\n",
            "|    2|    true|        178756|                   42|        293899|                   60|   true|         Relegation|          EnzoMatic|\n",
            "|    2|    true|        219906|                   62|        276210|                   35|   true| I <3 White Rice FC|  The Pecan Sandies|\n",
            "|    2|    true|        179251|                   23|        276578|                   26|   true|     Stinkcopper FC|             CRG FC|\n",
            "|    2|    true|        173108|                   51|        173181|                   42|   true|NamsArmyOfChampions|       Weebs United|\n",
            "|    3|    true|        173181|                   44|        219906|                   72|   true|       Weebs United| I <3 White Rice FC|\n",
            "|    3|    true|        276210|                   45|        173108|                   24|   true|  The Pecan Sandies|NamsArmyOfChampions|\n",
            "|    3|    true|        178756|                   41|        179251|                   34|   true|         Relegation|     Stinkcopper FC|\n",
            "|    3|    true|        276578|                   61|        274589|                   32|   true|             CRG FC|  Winnie Wunderkind|\n",
            "|    3|    true|        293899|                   37|        247072|                   46|   true|          EnzoMatic|        Chadvera FC|\n",
            "|    4|    true|        173108|                   42|        178756|                   32|   true|NamsArmyOfChampions|         Relegation|\n",
            "|    4|    true|        219906|                   42|        293899|                   23|   true| I <3 White Rice FC|          EnzoMatic|\n",
            "|    4|    true|        247072|                   42|        276578|                   30|   true|        Chadvera FC|             CRG FC|\n",
            "|    4|    true|        179251|                   49|        173181|                   73|   true|     Stinkcopper FC|       Weebs United|\n",
            "|    4|    true|        274589|                   43|        276210|                   39|   true|  Winnie Wunderkind|  The Pecan Sandies|\n",
            "+-----+--------+--------------+---------------------+--------------+---------------------+-------+-------------------+-------------------+\n",
            "only showing top 20 rows\n",
            "\n"
          ]
        }
      ]
    },
    {
      "cell_type": "code",
      "source": [
        "choices = json.loads(requests.get('https://draft.premierleague.com/api/draft/46331/choices').text)\n",
        "static = json.loads(requests.get('https://draft.premierleague.com/api/bootstrap-static').text)"
      ],
      "metadata": {
        "id": "aQE7XJ1Z0Hg-"
      },
      "execution_count": 106,
      "outputs": []
    },
    {
      "cell_type": "code",
      "source": [
        "draft = spark.createDataFrame(create_non_null_dataset(choices[\"choices\"])).withColumnRenamed(\"entry_name\", \"team_name\").withColumnRenamed(\"element\", \"element_id\")\n",
        "draft.show()"
      ],
      "metadata": {
        "colab": {
          "base_uri": "https://localhost:8080/"
        },
        "id": "XBlyouFT0Pl1",
        "outputId": "c2754f52-2dc0-4eca-fbcc-7bb866bd1095"
      },
      "execution_count": 128,
      "outputs": [
        {
          "output_type": "stream",
          "name": "stdout",
          "text": [
            "+--------------------+----------+------+-------------------+-------+-----+------+----+-----------------+----------------+-----+--------+\n",
            "|         choice_time|element_id| entry|          team_name|     id|index|league|pick|player_first_name|player_last_name|round|was_auto|\n",
            "+--------------------+----------+------+-------------------+-------+-----+------+----+-----------------+----------------+-----+--------+\n",
            "|2023-08-07T01:00:...|       355|172408|NamsArmyOfChampions|2930071|    1| 46331|   1|              Nam|              Le|    1|   false|\n",
            "|2023-08-07T01:01:...|       308|275105|             CRG FC|2930072|    2| 46331|   2|        Christian|           Farag|    1|   false|\n",
            "|2023-08-07T01:01:...|       349|292200|          EnzoMatic|2930073|    3| 46331|   3|            Scott|         Solomon|    1|   false|\n",
            "|2023-08-07T01:01:...|       500|178032|         Relegation|2930074|    4| 46331|   4|             Nick|          Wester|    1|   false|\n",
            "|2023-08-07T01:02:...|       396|178525|     Stinkcopper FC|2930075|    5| 46331|   5|           taylor|         kimbrel|    1|   false|\n",
            "|2023-08-07T01:02:...|       373|245921|        Chadvera FC|2930076|    6| 46331|   6|             Chad|        Verastek|    1|   false|\n",
            "|2023-08-07T01:03:...|        19|274742|  The Pecan Sandies|2930077|    7| 46331|   7|             Viet|              Le|    1|   false|\n",
            "|2023-08-07T01:03:...|        60|273160|  Winnie Wunderkind|2930078|    8| 46331|   8|             Eric|         Nartker|    1|   false|\n",
            "|2023-08-07T01:04:...|       516|172479|       Weebs United|2930079|    9| 46331|   9|             Binh|              Le|    1|   false|\n",
            "|2023-08-07T01:05:...|       212|218922| I <3 White Rice FC|2930080|   10| 46331|  10|               An|              Le|    1|   false|\n",
            "|2023-08-07T01:06:...|        14|218922| I <3 White Rice FC|2930081|   11| 46331|   1|               An|              Le|    2|   false|\n",
            "|2023-08-07T01:07:...|       290|172479|       Weebs United|2930082|   12| 46331|   2|             Binh|              Le|    2|   false|\n",
            "|2023-08-07T01:07:...|        12|273160|  Winnie Wunderkind|2930083|   13| 46331|   3|             Eric|         Nartker|    2|   false|\n",
            "|2023-08-07T01:07:...|       297|274742|  The Pecan Sandies|2930084|   14| 46331|   4|             Viet|              Le|    2|   false|\n",
            "|2023-08-07T01:08:...|         8|245921|        Chadvera FC|2930085|   15| 46331|   5|             Chad|        Verastek|    2|   false|\n",
            "|2023-08-07T01:08:...|       415|178525|     Stinkcopper FC|2930086|   16| 46331|   6|           taylor|         kimbrel|    2|   false|\n",
            "|2023-08-07T01:09:...|       353|178032|         Relegation|2930087|   17| 46331|   7|             Nick|          Wester|    2|   false|\n",
            "|2023-08-07T01:09:...|       294|292200|          EnzoMatic|2930088|   18| 46331|   8|            Scott|         Solomon|    2|   false|\n",
            "|2023-08-07T01:10:...|       354|275105|             CRG FC|2930089|   19| 46331|   9|        Christian|           Farag|    2|   false|\n",
            "|2023-08-07T01:12:...|       433|172408|NamsArmyOfChampions|2930090|   20| 46331|  10|              Nam|              Le|    2|   false|\n",
            "+--------------------+----------+------+-------------------+-------+-----+------+----+-----------------+----------------+-----+--------+\n",
            "only showing top 20 rows\n",
            "\n"
          ]
        }
      ]
    },
    {
      "cell_type": "code",
      "source": [
        "positions = spark.createDataFrame(static[\"element_types\"]).select(psf.col(\"id\").alias(\"element_type\"), psf.col(\"plural_name\").alias(\"position\"))\n",
        "positions.show()"
      ],
      "metadata": {
        "colab": {
          "base_uri": "https://localhost:8080/"
        },
        "id": "XPm7ubHZ2tiW",
        "outputId": "0d53b528-967f-4e8a-f8b3-039018e55c20"
      },
      "execution_count": 120,
      "outputs": [
        {
          "output_type": "stream",
          "name": "stdout",
          "text": [
            "+------------+-----------+\n",
            "|element_type|   position|\n",
            "+------------+-----------+\n",
            "|           1|Goalkeepers|\n",
            "|           2|  Defenders|\n",
            "|           3|Midfielders|\n",
            "|           4|   Forwards|\n",
            "+------------+-----------+\n",
            "\n"
          ]
        }
      ]
    },
    {
      "cell_type": "code",
      "source": [
        "elements = spark.createDataFrame(create_non_null_dataset(static[\"elements\"])).join(positions, on=\"element_type\", how=\"left\").withColumnRenamed(\"id\", \"element_id\")\n",
        "elements.show()"
      ],
      "metadata": {
        "colab": {
          "base_uri": "https://localhost:8080/"
        },
        "id": "uzvq_E5s0zWO",
        "outputId": "41f7bcae-1f23-4db8-dbe3-f24bd8f74bff"
      },
      "execution_count": 131,
      "outputs": [
        {
          "output_type": "stream",
          "name": "stdout",
          "text": [
            "+------------+--------------------+-------+-----+---+----------------------------+----------------------------+------------+------+----------+---------------+--------------------+----------+------------+----------------+--------------------------+--------------+-----------------------+----------+----+--------------+------------+---------+--------------+-------------------+----------+------------+---------+--------------+-------------------+-------+--------------------+--------------------+---------+----------------+---------------+---------------+---------+-----+--------------------+------+------+----+------+-----------+----------------+------------+------------+------------+-----------+\n",
            "|element_type|               added|assists|bonus|bps|chance_of_playing_next_round|chance_of_playing_this_round|clean_sheets|  code|creativity|creativity_rank|creativity_rank_type|draft_rank|event_points|expected_assists|expected_goal_involvements|expected_goals|expected_goals_conceded|first_name|form|goals_conceded|goals_scored|ict_index|ict_index_rank|ict_index_rank_type|element_id|in_dreamteam|influence|influence_rank|influence_rank_type|minutes|                news|          news_added|own_goals|penalties_missed|penalties_saved|points_per_game|red_cards|saves|         second_name|starts|status|team|threat|threat_rank|threat_rank_type|total_points|    web_name|yellow_cards|   position|\n",
            "+------------+--------------------+-------+-----+---+----------------------------+----------------------------+------------+------+----------+---------------+--------------------+----------+------------+----------------+--------------------------+--------------+-----------------------+----------+----+--------------+------------+---------+--------------+-------------------+----------+------------+---------+--------------+-------------------+-------+--------------------+--------------------+---------+----------------+---------------+---------------+---------+-----+--------------------+------+------+----+------+-----------+----------------+------------+------------+------------+-----------+\n",
            "|           1|2023-07-05T08:58:...|      0|    0| 55|                        NULL|                        NULL|           1|225321|       0.0|            669|                  78|       173|           0|            0.01|                      0.01|          0.00|                   3.73|     Aaron| 0.0|             4|           0|      5.1|           363|                 22|        17|       false|     51.0|           281|                 22|    360|                    |                NULL|        0|               0|              0|            2.8|        0|    5|            Ramsdale|     4|     a|   1|   0.0|        662|              76|          11|    Ramsdale|           0|Goalkeepers|\n",
            "|           1|2023-07-05T08:58:...|      0|    0|  0|                           0|                           0|           0|115918|       0.0|            465|                  34|       640|           0|            0.00|                      0.00|          0.00|                   0.00|Rúnar Alex| 0.0|             0|           0|      0.0|           485|                 50|        18|       false|      0.0|           479|                 50|      0|Season long loan ...|2023-08-20T06:33:...|        0|               0|              0|            0.0|        0|    0|           Rúnarsson|     0|     u|   1|   0.0|        440|              28|           0|   Rúnarsson|           0|Goalkeepers|\n",
            "|           3|2023-07-05T08:58:...|      1|    0| 12|                         100|                         100|           0|153256|       0.5|            407|                 202|       464|           4|            0.00|                      0.00|          0.00|                   0.00|   Mohamed| 1.3|             0|           0|      0.4|           433|                201|         3|       false|      1.8|           431|                201|      1|                    |2023-08-11T13:00:...|        0|               0|              0|            4.0|        0|    0|              Elneny|     0|     a|   1|   2.0|        380|             190|           4|    M.Elneny|           0|Midfielders|\n",
            "|           3|2023-07-05T08:58:...|      3|    0| 67|                         100|                         100|           1|438098|      62.1|            176|                 105|       131|           6|            0.34|                      1.54|          1.20|                   1.41|     Fábio| 2.0|             2|           1|     21.7|           197|                 97|         4|       false|     79.0|           230|                 90|    202|                    |2023-09-29T10:30:...|        0|               0|              0|            3.7|        0|    0|     Ferreira Vieira|     2|     a|   1|  77.0|        130|              79|          22|Fábio Vieira|           0|Midfielders|\n",
            "|           3|2023-07-05T08:58:...|      1|    0| 59|                        NULL|                        NULL|           3|219847|     114.0|             84|                  63|        22|           3|            0.58|                      2.44|          1.86|                   4.87|       Kai| 2.7|             4|           1|     30.7|           115|                 65|         6|       false|     91.2|           207|                 83|    563|                    |                NULL|        0|               0|              0|            2.3|        0|    0|             Havertz|     6|     a|   1| 101.0|         95|              57|          23|     Havertz|           3|Midfielders|\n",
            "|           3|2023-07-05T08:58:...|      0|    0| 34|                         100|                         100|           1| 85955|      33.1|            253|                 138|       117|           0|            0.20|                      0.24|          0.04|                   3.29|Jorge Luiz| 1.3|             4|           0|      7.2|           338|                153|         9|       false|     33.8|           319|                139|    213|                    |2023-08-07T15:30:...|        0|               0|              0|            1.3|        0|    0|        Frello Filho|     2|     a|   1|   6.0|        356|             182|           9|    Jorginho|           1|Midfielders|\n",
            "|           3|2023-07-05T08:58:...|      0|    0|  0|                           0|                           0|           0|479683|       0.0|            639|                 256|       476|           0|            0.00|                      0.00|          0.00|                   0.00|    Marcus| 0.0|             0|           0|      0.0|           646|                258|        11|       false|      0.0|           641|                255|      0|Season long loan ...|2023-08-14T03:57:...|        0|               0|              0|            0.0|        0|    0|    Oliveira Alencar|     0|     u|   1|   0.0|        630|             253|           0|  Marquinhos|           0|Midfielders|\n",
            "|           3|2023-07-05T08:58:...|      2|    0|116|                         100|                         100|           2|444145|     175.6|             44|                  34|        10|           3|            1.10|                      2.09|          0.99|                   4.50|   Gabriel| 3.7|             6|           1|     49.8|            49|                 31|        12|       false|    124.2|           153|                 61|    543|                    |2023-09-17T20:30:...|        0|               0|              0|            3.4|        0|    0|    Martinelli Silva|     7|     a|   1| 199.0|         36|              21|          27|  Martinelli|           0|Midfielders|\n",
            "|           3|2023-07-05T08:58:...|      2|    6|161|                        NULL|                        NULL|           4|184029|     239.2|             22|                  17|         7|           0|            1.16|                      3.77|          2.61|                   7.61|    Martin| 1.7|             7|           3|     65.3|            22|                 18|        14|       false|    217.4|            44|                 15|    789|                    |                NULL|        0|               0|              0|            5.3|        0|    0|            Ødegaard|     9|     a|   1| 197.0|         37|              22|          48|    Ødegaard|           1|Midfielders|\n",
            "|           3|2023-07-05T08:58:...|      0|    0| 58|                           0|                           0|           1|167199|      60.0|            182|                 108|       191|           0|            0.21|                      0.28|          0.07|                   2.53|    Thomas| 0.3|             2|           0|     13.1|           282|                128|        15|       false|     55.8|           273|                110|    250|Muscle injury - E...|2023-10-25T12:00:...|        0|               0|              0|            1.8|        0|    0|              Partey|     3|     i|   1|  15.0|        302|             153|           7|      Thomas|           0|Midfielders|\n",
            "|           3|2023-07-05T08:58:...|      0|    0|  0|                           0|                           0|           0|195735|       0.0|            686|                 288|       275|           0|            0.00|                      0.00|          0.00|                   0.00|   Nicolas| 0.0|             0|           0|      0.0|           689|                289|        16|       false|      0.0|           688|                289|      0|Permanent move to...|2023-09-11T14:13:...|        0|               0|              0|            0.0|        0|    0|                Pépé|     0|     u|   1|   0.0|        682|             286|           0|        Pepe|           0|Midfielders|\n",
            "|           3|2023-07-05T08:58:...|      5|    8|231|                         100|                         100|           4|223340|     352.7|              6|                   5|         8|           6|            2.68|                      6.66|          3.98|                   7.26|    Bukayo| 3.7|             8|           4|     97.1|             4|                  3|        19|        true|    305.0|            13|                  6|    775|                    |2023-10-03T22:30:...|        0|               0|              0|            7.1|        0|    0|                Saka|     9|     a|   1| 314.0|         13|               8|          64|        Saka|           1|Midfielders|\n",
            "|           3|2023-07-05T08:58:...|      0|    0| 11|                           0|                           0|           0|437742|      13.9|            338|                 175|       252|           0|            0.01|                      0.07|          0.06|                   1.07|    Albert| 0.0|             2|           0|      2.9|           392|                182|        21|       false|      4.2|           418|                192|    130|Hamstring injury ...|2023-09-27T09:00:...|        0|               0|              0|            1.5|        0|    0|       Sambi Lokonga|     2|     i|  12|  11.0|        327|             169|           3|       Sambi|           0|Midfielders|\n",
            "|           2|2023-07-05T08:58:...|      0|    0|  0|                        NULL|                        NULL|           0| 58822|       0.0|            428|                 154|       621|           0|            0.00|                      0.00|          0.00|                   0.00|    Cédric| 0.0|             0|           0|      0.0|           451|                157|         2|       false|      0.0|           446|                158|      0|                    |                NULL|        0|               0|              0|            0.0|        0|    0|        Alves Soares|     0|     a|   1|   0.0|        402|             142|           0|      Cédric|           0|  Defenders|\n",
            "|           2|2023-07-05T08:58:...|      0|    2|120|                         100|                         100|           3|226597|      11.8|            352|                 124|       172|           0|            0.05|                      0.25|          0.20|                   6.11|   Gabriel| 3.0|             5|           0|     14.6|           260|                 85|         5|       false|    108.2|           172|                 66|    564|                    |2023-09-30T23:00:...|        0|               0|              0|            3.1|        0|    0|dos Santos Magalhães|     6|     a|   1|  25.0|        250|              73|          25|     Gabriel|           1|  Defenders|\n",
            "|           2|2023-07-05T08:58:...|      0|    0|  0|                        NULL|                        NULL|           0|156074|       0.0|            560|                 220|       448|           0|            0.00|                      0.00|          0.00|                   0.00|       Rob| 0.0|             0|           0|      0.0|           574|                220|         7|       false|      0.0|           569|                221|      0|                    |                NULL|        0|               0|              0|            0.0|        0|    0|             Holding|     0|     a|   8|   0.0|        546|             217|           0|     Holding|           0|  Defenders|\n",
            "|           2|2023-07-05T08:58:...|      0|    0| 39|                        NULL|                        NULL|           1|440854|       6.4|            365|                 132|       444|           6|            0.05|                      0.37|          0.32|                   0.82|     Jakub| 2.0|             2|           0|      5.3|           359|                129|        10|       false|     29.4|           331|                126|    181|                    |                NULL|        0|               0|              0|            2.7|        0|    0|              Kiwior|     2|     a|   1|  16.0|        291|              93|           8|      Kiwior|           0|  Defenders|\n",
            "|           2|2023-07-05T08:58:...|      1|    4|212|                         100|                         100|           5|462424|      46.2|            217|                  58|       179|           7|            0.42|                      0.46|          0.04|                   8.16|   William| 5.0|             8|           0|     24.6|           175|                 49|        20|       false|    189.8|            71|                 21|    900|                    |2023-10-09T08:30:...|        0|               0|              0|            4.4|        0|    0|              Saliba|    10|     a|   1|   9.0|        335|             112|          44|      Saliba|           0|  Defenders|\n",
            "|           4|2023-07-05T08:58:...|      0|    0|  0|                           0|                           0|           0|232223|       0.0|            574|                  60|       485|           0|            0.00|                      0.00|          0.00|                   0.00|   Folarin| 0.0|             0|           0|      0.0|           587|                 58|         1|       false|      0.0|           582|                 56|      0|Transferred to Mo...|2023-08-31T08:55:...|        0|               0|              0|            0.0|        0|    0|             Balogun|     0|     u|   1|   0.0|        562|              58|           0|     Balogun|           0|   Forwards|\n",
            "|           4|2023-07-05T08:58:...|      1|    2| 51|                           0|                           0|           2|205651|      58.7|            186|                  29|        15|           0|            0.30|                      2.01|          1.71|                   4.22|   Gabriel| 1.0|             4|           1|     26.9|           152|                 27|         8|       false|     67.8|           253|                 30|    362|Hamstring injury ...|2023-10-24T23:30:...|        0|               0|              0|            2.6|        0|    0|   Fernando de Jesus|     4|     i|   1| 144.0|         53|              20|          18|     G.Jesus|           2|   Forwards|\n",
            "+------------+--------------------+-------+-----+---+----------------------------+----------------------------+------------+------+----------+---------------+--------------------+----------+------------+----------------+--------------------------+--------------+-----------------------+----------+----+--------------+------------+---------+--------------+-------------------+----------+------------+---------+--------------+-------------------+-------+--------------------+--------------------+---------+----------------+---------------+---------------+---------+-----+--------------------+------+------+----+------+-----------+----------------+------------+------------+------------+-----------+\n",
            "only showing top 20 rows\n",
            "\n"
          ]
        }
      ]
    },
    {
      "cell_type": "code",
      "source": [
        "# TOTAL POINTS PER TEAM BASED ON DRAFT\n",
        "draft_elements = draft.join(elements, how=\"left\", on=\"element_id\")\n",
        "draft_elements.groupBy(\"team_name\").agg(psf.sum(\"total_points\").alias(\"sum_points\")).orderBy(psf.desc(\"sum_points\")).show()"
      ],
      "metadata": {
        "colab": {
          "base_uri": "https://localhost:8080/"
        },
        "id": "CFPdRTnx1Pmv",
        "outputId": "6077ffa6-fa33-4f23-b62c-7982afeeb3c8"
      },
      "execution_count": 134,
      "outputs": [
        {
          "output_type": "stream",
          "name": "stdout",
          "text": [
            "+-------------------+----------+\n",
            "|          team_name|sum_points|\n",
            "+-------------------+----------+\n",
            "|NamsArmyOfChampions|       484|\n",
            "|       Weebs United|       481|\n",
            "|  The Pecan Sandies|       465|\n",
            "|  Winnie Wunderkind|       441|\n",
            "| I <3 White Rice FC|       441|\n",
            "|        Chadvera FC|       384|\n",
            "|     Stinkcopper FC|       363|\n",
            "|             CRG FC|       357|\n",
            "|          EnzoMatic|       336|\n",
            "|         Relegation|       284|\n",
            "+-------------------+----------+\n",
            "\n"
          ]
        }
      ]
    },
    {
      "cell_type": "code",
      "source": [
        "# TOTAL POINTS PER TEAM PER POSITION BASED ON DRAFT\n",
        "position_names = positions.select(\"position\").rdd.flatMap(lambda x: x).collect()\n",
        "for position in position_names:\n",
        "  print(\"POSITION: \" + position)\n",
        "  draft_elements.filter(psf.col(\"position\") == position).groupBy(\"team_name\").agg(psf.sum(\"total_points\").alias(\"sum_points\")).orderBy(psf.desc(\"sum_points\")).show()"
      ],
      "metadata": {
        "colab": {
          "base_uri": "https://localhost:8080/"
        },
        "id": "dVzudsrA2Zy2",
        "outputId": "40e6dd80-f086-4bba-884b-73e10a435468"
      },
      "execution_count": 136,
      "outputs": [
        {
          "output_type": "stream",
          "name": "stdout",
          "text": [
            "POSITION: Goalkeepers\n",
            "+-------------------+----------+\n",
            "|          team_name|sum_points|\n",
            "+-------------------+----------+\n",
            "|        Chadvera FC|        76|\n",
            "|  The Pecan Sandies|        69|\n",
            "|  Winnie Wunderkind|        69|\n",
            "|       Weebs United|        64|\n",
            "| I <3 White Rice FC|        64|\n",
            "|     Stinkcopper FC|        50|\n",
            "|NamsArmyOfChampions|        41|\n",
            "|          EnzoMatic|        38|\n",
            "|             CRG FC|        27|\n",
            "|         Relegation|         0|\n",
            "+-------------------+----------+\n",
            "\n",
            "POSITION: Defenders\n",
            "+-------------------+----------+\n",
            "|          team_name|sum_points|\n",
            "+-------------------+----------+\n",
            "|NamsArmyOfChampions|       158|\n",
            "|          EnzoMatic|       149|\n",
            "|       Weebs United|       142|\n",
            "| I <3 White Rice FC|       131|\n",
            "|             CRG FC|       129|\n",
            "|  The Pecan Sandies|       112|\n",
            "|         Relegation|       104|\n",
            "|  Winnie Wunderkind|        98|\n",
            "|        Chadvera FC|        75|\n",
            "|     Stinkcopper FC|        68|\n",
            "+-------------------+----------+\n",
            "\n",
            "POSITION: Midfielders\n",
            "+-------------------+----------+\n",
            "|          team_name|sum_points|\n",
            "+-------------------+----------+\n",
            "|       Weebs United|       208|\n",
            "|  The Pecan Sandies|       190|\n",
            "|        Chadvera FC|       174|\n",
            "|         Relegation|       170|\n",
            "|             CRG FC|       167|\n",
            "| I <3 White Rice FC|       158|\n",
            "|NamsArmyOfChampions|       157|\n",
            "|     Stinkcopper FC|       155|\n",
            "|  Winnie Wunderkind|        96|\n",
            "|          EnzoMatic|        58|\n",
            "+-------------------+----------+\n",
            "\n",
            "POSITION: Forwards\n",
            "+-------------------+----------+\n",
            "|          team_name|sum_points|\n",
            "+-------------------+----------+\n",
            "|  Winnie Wunderkind|       178|\n",
            "|NamsArmyOfChampions|       128|\n",
            "|  The Pecan Sandies|        94|\n",
            "|          EnzoMatic|        91|\n",
            "|     Stinkcopper FC|        90|\n",
            "| I <3 White Rice FC|        88|\n",
            "|       Weebs United|        67|\n",
            "|        Chadvera FC|        59|\n",
            "|             CRG FC|        34|\n",
            "|         Relegation|        10|\n",
            "+-------------------+----------+\n",
            "\n"
          ]
        }
      ]
    }
  ]
}